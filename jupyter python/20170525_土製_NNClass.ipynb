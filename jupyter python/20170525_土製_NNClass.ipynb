{
 "cells": [
  {
   "cell_type": "code",
   "execution_count": 1,
   "metadata": {
    "collapsed": true,
    "deletable": true,
    "editable": true
   },
   "outputs": [],
   "source": [
    "import numpy as np\n",
    "import matplotlib.pyplot as plt\n",
    "import math"
   ]
  },
  {
   "cell_type": "code",
   "execution_count": 2,
   "metadata": {
    "collapsed": true,
    "deletable": true,
    "editable": true
   },
   "outputs": [],
   "source": [
    "#定義常用函數\n",
    "def sigmoid(z):\n",
    "    \"\"\"The sigmoid function.\"\"\"\n",
    "    return 1.0 / (1.0 + np.exp(-z))\n",
    "\n",
    "def sigmoid_prime(z):\n",
    "    \"\"\"Derivative of the sigmoid function.\"\"\"\n",
    "    return sigmoid(z) * (1 - sigmoid(z))"
   ]
  },
  {
   "cell_type": "code",
   "execution_count": 3,
   "metadata": {
    "collapsed": true,
    "deletable": true,
    "editable": true
   },
   "outputs": [],
   "source": [
    "#學習速率\n",
    "learning_rate = 0.01\n",
    "\n",
    "def allShape(list):\n",
    "    for arr in list:\n",
    "        print(arr.shape)"
   ]
  },
  {
   "cell_type": "code",
   "execution_count": 4,
   "metadata": {
    "collapsed": false,
    "deletable": true,
    "editable": true
   },
   "outputs": [],
   "source": [
    "class Network(object):\n",
    "    \n",
    "    def __init__(self, sizes):\n",
    "        self.num_layers = len(sizes)\n",
    "        self.sizes = sizes\n",
    "        self.biases = [np.zeros((1, y)) for y in sizes[1:]]\n",
    "        self.weights = [np.random.rand(x, y) - 0.5 for x, y in zip(sizes[:-1], sizes[1:])]\n",
    "    \n",
    "    def feedforward(self, x):\n",
    "        (xs, _) = self.feedforwardRecord(x)\n",
    "        return xs[-1]\n",
    "    \n",
    "    def feedforwardRecord(self, x):\n",
    "        xs = [np.array(x)]\n",
    "        ss = [np.array(x)]\n",
    "        \n",
    "        for b, w in zip(self.biases, self.weights):\n",
    "            s = np.dot(x, w) + b\n",
    "            x = sigmoid(s)\n",
    "            \n",
    "            xs.append(x)\n",
    "            ss.append(s)\n",
    "        return (xs, ss)\n",
    "    \n",
    "    def backpropagationWith(self, xs, ss, y):\n",
    "        \n",
    "        delta_out = []\n",
    "        delta_in = xs[-1] - y #cross entropy loss\n",
    "        \n",
    "        dbs = [delta_in]\n",
    "        dws = [np.dot(np.transpose(xs[-1]), delta_in)]\n",
    "        \n",
    "        for idx in range(self.num_layers - 2, 0, -1):\n",
    "            \n",
    "            delta_out = np.dot(delta_in, np.transpose(self.weights[idx]))\n",
    "            delta_in = delta_out * sigmoid_prime(ss[idx])\n",
    "            db = delta_in\n",
    "            dw = np.dot(np.transpose(xs[idx - 1]), delta_in)\n",
    "            \n",
    "            dbs.insert(0, db)\n",
    "            dws.insert(0, dw)\n",
    "        \n",
    "        return (dbs, dws)\n",
    "    \n",
    "    def updateWith(self, dbs, dws):\n",
    "        \n",
    "        new_b = []\n",
    "        for b, db in zip(self.biases, dbs):\n",
    "            new_b.append(b - learning_rate * db)\n",
    "        \n",
    "        new_w = []\n",
    "        for w, dw in zip(self.weights, dws):\n",
    "            new_w.append(w - learning_rate * dw)\n",
    "        \n",
    "        self.biases = new_b\n",
    "        self.weights = new_w\n",
    "    \n",
    "    def showbiasesweights(self):\n",
    "        allShape(self.biases)\n",
    "        print(self.biases)\n",
    "        allShape(self.weights)\n",
    "        print(self.weights)"
   ]
  },
  {
   "cell_type": "code",
   "execution_count": 5,
   "metadata": {
    "collapsed": false,
    "deletable": true,
    "editable": true
   },
   "outputs": [],
   "source": [
    "myNN = Network([2, 3, 1])"
   ]
  },
  {
   "cell_type": "code",
   "execution_count": 6,
   "metadata": {
    "collapsed": false,
    "deletable": true,
    "editable": true
   },
   "outputs": [
    {
     "name": "stdout",
     "output_type": "stream",
     "text": [
      "001 > 0.75077\n",
      "002 > 0.75162\n",
      "003 > 0.75112\n",
      "004 > 0.74739\n",
      "005 > 0.74971\n",
      "006 > 0.75099\n",
      "007 > 0.74741\n",
      "008 > 0.74872\n",
      "009 > 0.74995\n",
      "010 > 0.7513\n",
      "011 > 0.75185\n",
      "012 > 0.75079\n",
      "013 > 0.7487\n",
      "014 > 0.74998\n",
      "015 > 0.75167\n",
      "016 > 0.74833\n",
      "017 > 0.74753\n",
      "018 > 0.91225\n",
      "019 > 0.99317\n",
      "020 > 0.99346\n",
      "021 > 0.99464\n",
      "022 > 0.99423\n",
      "023 > 0.99455\n",
      "024 > 0.99495\n",
      "025 > 0.99498\n",
      "026 > 0.99481\n",
      "027 > 0.99474\n",
      "028 > 0.99492\n",
      "029 > 0.99479\n",
      "030 > 0.9952\n"
     ]
    }
   ],
   "source": [
    "'''\n",
    "def judgeFunction(x):\n",
    "    if x[0, 0] > 0.5 and x[0, 1] < 0.5:\n",
    "        return 1\n",
    "    if x[0, 0] < 0.5 and x[0, 1] > 0.5:\n",
    "        return 1\n",
    "    return 0\n",
    "'''\n",
    "def judgeFunction(x):\n",
    "    return float( np.sum(x) < 0.5 or np.sum(x) > 1.5)\n",
    "\n",
    "\n",
    "total_test = 10000000\n",
    "to_print = 100000\n",
    "acc = 0\n",
    "\n",
    "for i in range(total_test):\n",
    "    x = np.random.rand(1, 2)\n",
    "    y = judgeFunction(x)\n",
    "    (xs, ss) = myNN.feedforwardRecord(x)\n",
    "    y_hat = xs[-1]\n",
    "    \n",
    "    (dbs, dws) = myNN.backpropagationWith(xs, ss, y)\n",
    "    myNN.updateWith(dbs, dws)\n",
    "    \n",
    "    acc += float(y == float(y_hat > 0.5))\n",
    "    if (i + 1) % to_print == 0:\n",
    "        score = acc / float(to_print)\n",
    "        process = int((i + 1) / to_print)\n",
    "        print('{num:03d}'.format(num = process), \">\", score)\n",
    "        acc = 0\n",
    "        if score > 0.995:\n",
    "            break"
   ]
  },
  {
   "cell_type": "code",
   "execution_count": 7,
   "metadata": {
    "collapsed": false,
    "deletable": true,
    "editable": true
   },
   "outputs": [
    {
     "data": {
      "text/plain": [
       "<matplotlib.figure.Figure at 0x103e61518>"
      ]
     },
     "metadata": {},
     "output_type": "display_data"
    },
    {
     "data": {
      "image/png": "[encoded data removed]",
      "text/plain": [
       "<matplotlib.figure.Figure at 0x103e61438>"
      ]
     },
     "metadata": {},
     "output_type": "display_data"
    }
   ],
   "source": [
    "def colorFrom(y):\n",
    "    if y > 0.5:\n",
    "        return 'red'\n",
    "    else:\n",
    "        return 'blue'\n",
    "    \n",
    "plt.figure(figsize=(9, 9))\n",
    "x0s = np.linspace(0, 1, 20, dtype = np.double)\n",
    "x1s = np.linspace(0, 1, 20, dtype = np.double)\n",
    "\n",
    "fig = plt.figure()\n",
    "ax = fig.add_subplot(1,2,1)\n",
    "for x0 in x0s:\n",
    "    for x1 in x1s:\n",
    "        y = myNN.feedforward(np.array([[x0, x1]]))\n",
    "        ax.scatter(x0, x1, c = colorFrom(y), s = 30, alpha = 0.5, marker = 's')\n",
    "        \n",
    "ax = fig.add_subplot(1,2,2)\n",
    "for x0 in x0s:\n",
    "    for x1 in x1s:\n",
    "        y = judgeFunction(np.array([[x0, x1]]))\n",
    "        ax.scatter(x0, x1, c = colorFrom(y), s = 30, alpha = 0.5, marker = 's')\n",
    "\n",
    "plt.show()"
   ]
  },
  {
   "cell_type": "code",
   "execution_count": 8,
   "metadata": {
    "collapsed": false,
    "deletable": true,
    "editable": true
   },
   "outputs": [
    {
     "name": "stdout",
     "output_type": "stream",
     "text": [
      "(1, 3)\n",
      "(1, 1)\n",
      "[array([[  5.54519715,  -5.02415814, -16.36584103]]), array([[-17.242119]])]\n",
      "(2, 3)\n",
      "(3, 1)\n",
      "[array([[-12.62830861,  -4.66372777,  10.43033774],\n",
      "       [-12.81451868,   0.35409882,  10.40502463]]), array([[ 54.93710928],\n",
      "       [ 54.45194523],\n",
      "       [ 54.87014418]])]\n"
     ]
    }
   ],
   "source": [
    "myNN.showbiasesweights()"
   ]
  },
  {
   "cell_type": "code",
   "execution_count": null,
   "metadata": {
    "collapsed": true,
    "deletable": true,
    "editable": true
   },
   "outputs": [],
   "source": []
  }
 ],
 "metadata": {
  "kernelspec": {
   "display_name": "Python 3",
   "language": "python",
   "name": "python3"
  },
  "language_info": {
   "codemirror_mode": {
    "name": "ipython",
    "version": 3
   },
   "file_extension": ".py",
   "mimetype": "text/x-python",
   "name": "python",
   "nbconvert_exporter": "python",
   "pygments_lexer": "ipython3",
   "version": "3.6.0"
  }
 },
 "nbformat": 4,
 "nbformat_minor": 2
}
