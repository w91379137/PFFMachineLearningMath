{
 "cells": [
  {
   "cell_type": "markdown",
   "metadata": {},
   "source": [
    "測試 tensorflow<br>\n",
    "<br>\n",
    "Code 來源<br>\n",
    "http://mropengate.blogspot.tw/2016/10/ai-ch165-tensorflow.html<br>"
   ]
  },
  {
   "cell_type": "code",
   "execution_count": 1,
   "metadata": {
    "collapsed": false,
    "deletable": true,
    "editable": true
   },
   "outputs": [
    {
     "data": {
      "image/png": "[encoded data removed]",
      "text/plain": [
       "<matplotlib.figure.Figure at 0x113771b50>"
      ]
     },
     "metadata": {},
     "output_type": "display_data"
    }
   ],
   "source": [
    "import numpy as np\n",
    "import tensorflow as tf\n",
    "import matplotlib.pyplot as plt\n",
    "\n",
    "def add_layer(inputs, in_size, out_size, activation_function=None):\n",
    "    Weights = tf.Variable(tf.random_normal([in_size, out_size]))\n",
    "    biases = tf.Variable(tf.zeros([1, out_size]) + 0.1)\n",
    "    Wx_plus_b = tf.matmul(inputs, Weights) + biases #matrix multiply\n",
    "\n",
    "    if activation_function is None:\n",
    "        outputs = Wx_plus_b\n",
    "    else:\n",
    "        outputs = activation_function(Wx_plus_b)\n",
    "\n",
    "    return outputs\n",
    "\n",
    "### Create Data : poly. + noise\n",
    "x_data = np.linspace(-2,2,600)[:,np.newaxis]\n",
    "noise = np.random.normal(0,0.8,x_data.shape)\n",
    "y_data_ori = 1.5*np.power(x_data,3) + 2*np.power(x_data,2) + 1\n",
    "# y_data_ori = 2*x_data + 2 * np.sin(x_data/0.5)\n",
    "y_data = y_data_ori + noise\n",
    "\n",
    "xs = tf.placeholder(tf.float32,[None,1])\n",
    "ys = tf.placeholder(tf.float32,[None,1])\n",
    "\n",
    "### Create NN graph\n",
    "l1 = add_layer(xs, 1,  10, activation_function=tf.nn.sigmoid)\n",
    "prediction = add_layer(l1 , 10 , 1 , activation_function=None)\n",
    "\n",
    "# Set Learning Parameter\n",
    "loss = tf.reduce_mean(tf.reduce_sum(tf.square(y_data - prediction),reduction_indices=[1]))\n",
    "train_step = tf.train.GradientDescentOptimizer(0.1).minimize(loss)\n",
    "\n",
    "# initial tensorflow variables\n",
    "init = tf.global_variables_initializer()\n",
    "\n",
    "# initial graph\n",
    "fig = plt.figure()\n",
    "ax = fig.add_subplot(1,1,1)\n",
    "ax.scatter(x_data, y_data)\n",
    "plt.ion()\n",
    "\n",
    "with tf.Session() as sess:\n",
    "    sess.run(init)\n",
    "\n",
    "    for i in range(1500):\n",
    "        sess.run(train_step, feed_dict={xs:x_data, ys:y_data})\n",
    "\n",
    "        # predict and plot the result\n",
    "        if i % 50 ==0:\n",
    "            #print(sess.run(loss,feed_dict={xs:x_data, ys:y_data}))\n",
    "            try:\n",
    "                ax.lines.remove(lines[0])\n",
    "            except Exception:\n",
    "                pass\n",
    "\n",
    "            prediction_value = sess.run(prediction, feed_dict={xs: x_data})\n",
    "            # plot the prediction\n",
    "            lines = ax.plot(x_data, prediction_value, 'r-', lw=2)\n",
    "\n",
    "    lines = ax.plot(x_data, y_data_ori,'y-', lw=2)\n",
    "\n",
    "plt.show()"
   ]
  }
 ],
 "metadata": {
  "kernelspec": {
   "display_name": "Python 2",
   "language": "python",
   "name": "python2"
  },
  "language_info": {
   "codemirror_mode": {
    "name": "ipython",
    "version": 2
   },
   "file_extension": ".py",
   "mimetype": "text/x-python",
   "name": "python",
   "nbconvert_exporter": "python",
   "pygments_lexer": "ipython2",
   "version": "2.7.13"
  }
 },
 "nbformat": 4,
 "nbformat_minor": 2
}
