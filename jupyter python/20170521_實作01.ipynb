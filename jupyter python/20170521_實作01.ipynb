{
 "cells": [
  {
   "cell_type": "code",
   "execution_count": 1,
   "metadata": {
    "collapsed": true,
    "deletable": true,
    "editable": true
   },
   "outputs": [],
   "source": [
    "import numpy as np"
   ]
  },
  {
   "cell_type": "code",
   "execution_count": 2,
   "metadata": {
    "collapsed": false,
    "deletable": true,
    "editable": true
   },
   "outputs": [
    {
     "name": "stdout",
     "output_type": "stream",
     "text": [
      "3890.05076534 0.9599 1\n",
      "2384.98975011 0.9774 2\n",
      "1933.62993675 0.985 3\n",
      "1744.5823675 0.9845 4\n",
      "1549.47951367 0.9908 5\n",
      "1416.47976381 0.9947 6\n",
      "1336.00454649 0.9929 7\n",
      "1316.83852413 0.9925 8\n",
      "1222.39065186 0.9949 9\n",
      "1174.46583154 0.9942 10\n"
     ]
    }
   ],
   "source": [
    "w1 = 0\n",
    "w2 = 0\n",
    "b = 0\n",
    "\n",
    "loss = 0\n",
    "acc = 0\n",
    "total_test = 100000\n",
    "to_print = total_test / 10\n",
    "eta = 0.001\n",
    "\n",
    "for i in range(total_test):\n",
    "    \n",
    "    #Data\n",
    "    x1 = np.random.randn()\n",
    "    x2 = np.random.randn()\n",
    "    z_ = float( x1 + x2 > 1 )\n",
    "    \n",
    "    #Feedforward\n",
    "    y = w1 * x1 + w2 * x2 + b\n",
    "    z = 1 / (1 + np.exp(-y))\n",
    "    \n",
    "    #Loss\n",
    "    loss += -z_ * np.log(z) - (1 - z_) * np.log(1 - z) #Cross entropy\n",
    "    acc += float(z_ == float(z > 0.5))\n",
    "    if (i + 1) % to_print == 0:\n",
    "        print loss, acc / float(to_print), (i + 1) / to_print\n",
    "        loss = 0\n",
    "        acc = 0\n",
    "    \n",
    "    #Backpropagation\n",
    "    w1 -= eta * (z - z_) * x1\n",
    "    w2 -= eta * (z - z_) * x2\n",
    "    b -= eta * (z - z_)"
   ]
  }
 ],
 "metadata": {
  "kernelspec": {
   "display_name": "Python 2",
   "language": "python",
   "name": "python2"
  },
  "language_info": {
   "codemirror_mode": {
    "name": "ipython",
    "version": 2
   },
   "file_extension": ".py",
   "mimetype": "text/x-python",
   "name": "python",
   "nbconvert_exporter": "python",
   "pygments_lexer": "ipython2",
   "version": "2.7.11"
  }
 },
 "nbformat": 4,
 "nbformat_minor": 2
}
