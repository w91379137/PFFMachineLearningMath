{
 "cells": [
  {
   "cell_type": "code",
   "execution_count": 1,
   "metadata": {
    "collapsed": true,
    "deletable": true,
    "editable": true
   },
   "outputs": [],
   "source": [
    "import numpy as np"
   ]
  },
  {
   "cell_type": "code",
   "execution_count": 2,
   "metadata": {
    "collapsed": false,
    "deletable": true,
    "editable": true
   },
   "outputs": [
    {
     "name": "stdout",
     "output_type": "stream",
     "text": [
      "6460.18822803 0.6147 1\n",
      "5773.40847957 0.7866 2\n",
      "5212.6128817 0.8627 3\n",
      "4810.71004397 0.9065 4\n",
      "4452.81751437 0.9201 5\n",
      "4216.9398945 0.9457 6\n",
      "3968.39199267 0.955 7\n",
      "3811.29244459 0.9594 8\n",
      "3621.99053576 0.9561 9\n",
      "3490.56075058 0.9602 10\n"
     ]
    }
   ],
   "source": [
    "w1 = 0\n",
    "w2 = 0\n",
    "b = 0\n",
    "\n",
    "loss = 0\n",
    "acc = 0\n",
    "total_test = 100000\n",
    "to_print = total_test / 10\n",
    "eta = 0.001\n",
    "\n",
    "for i in range(total_test):\n",
    "    \n",
    "    #Data\n",
    "    x1 = np.random.rand()\n",
    "    x2 = np.random.rand()\n",
    "    z_ = float( x1 + x2 > 1 )\n",
    "    \n",
    "    #Feedforward\n",
    "    y = w1 * x1 + w2 * x2 + b\n",
    "    z = 1 / (1 + np.exp(-y))\n",
    "    \n",
    "    #Loss\n",
    "    loss += -z_ * np.log(z) - (1 - z_) * np.log(1 - z) #Cross entropy\n",
    "    acc += float(z_ == float(z > 0.5))\n",
    "    if (i + 1) % to_print == 0:\n",
    "        print loss, acc / float(to_print), (i + 1) / to_print\n",
    "        loss = 0\n",
    "        acc = 0\n",
    "    \n",
    "    #Backpropagation\n",
    "    w1 -= eta * (z - z_) * x1\n",
    "    w2 -= eta * (z - z_) * x2\n",
    "    b -= eta * (z - z_)"
   ]
  }
 ],
 "metadata": {
  "kernelspec": {
   "display_name": "Python 2",
   "language": "python",
   "name": "python2"
  },
  "language_info": {
   "codemirror_mode": {
    "name": "ipython",
    "version": 2
   },
   "file_extension": ".py",
   "mimetype": "text/x-python",
   "name": "python",
   "nbconvert_exporter": "python",
   "pygments_lexer": "ipython2",
   "version": "2.7.13"
  }
 },
 "nbformat": 4,
 "nbformat_minor": 2
}
