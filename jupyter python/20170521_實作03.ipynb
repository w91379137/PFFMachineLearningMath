{
 "cells": [
  {
   "cell_type": "code",
   "execution_count": 1,
   "metadata": {
    "collapsed": true,
    "deletable": true,
    "editable": true
   },
   "outputs": [],
   "source": [
    "import numpy as np\n",
    "\n",
    "#定義常用函數\n",
    "def sigmoid(z):\n",
    "    \"\"\"The sigmoid function.\"\"\"\n",
    "    return 1.0/(1.0+np.exp(-z))\n",
    "\n",
    "def sigmoid_prime(z):\n",
    "    \"\"\"Derivative of the sigmoid function.\"\"\"\n",
    "    return sigmoid(z)*(1-sigmoid(z))"
   ]
  },
  {
   "cell_type": "code",
   "execution_count": 2,
   "metadata": {
    "collapsed": false,
    "deletable": true,
    "editable": true
   },
   "outputs": [
    {
     "name": "stdout",
     "output_type": "stream",
     "text": [
      "[[ 56304.19468505]] 0.75018 1\n",
      "[[ 56361.22368372]] 0.74961 2\n",
      "[[ 56486.88388642]] 0.74835 3\n",
      "[[ 56326.74536639]] 0.74976 4\n",
      "[[ 56634.6653972]] 0.74684 5\n",
      "[[ 56343.9921785]] 0.74876 6\n",
      "[[ 52583.5111166]] 0.74762 7\n",
      "[[ 45576.18841399]] 0.74907 8\n",
      "[[ 42346.44592707]] 0.78842 9\n",
      "[[ 23473.38387846]] 0.91561 10\n",
      "[[ 11145.3373047]] 0.97108 11\n",
      "[[ 6277.23528982]] 0.99067 12\n"
     ]
    }
   ],
   "source": [
    "# 2 3 1 採用右乘\n",
    "\n",
    "w1 = np.random.rand(2, 3) - 0.5\n",
    "b1 = np.zeros((1, 3))\n",
    "\n",
    "w2 = np.random.rand(3, 1) - 0.5\n",
    "b2 = np.zeros((1, 1))\n",
    "\n",
    "loss = 0\n",
    "acc = 0\n",
    "total_test = 10000000\n",
    "to_print = 100000\n",
    "eta = 0.01\n",
    "\n",
    "for i in range(total_test):\n",
    "    \n",
    "    #Data\n",
    "    x = np.random.rand(1, 2)\n",
    "    z_ = float( np.sum(x) < 0.5 or np.sum(x) > 1.5 )\n",
    "    \n",
    "    #Feedforward\n",
    "    s1 = np.dot(x, w1) + b1\n",
    "    z1 = sigmoid(s1)\n",
    "    \n",
    "    s2 = np.dot(z1, w2) + b2\n",
    "    z2 = sigmoid(s2)\n",
    "    \n",
    "    #Loss\n",
    "    loss += -z_ * np.log(z2) - (1 - z_) * np.log(1 - z2) #Cross entropy\n",
    "    acc += float(z_ == float(z2 > 0.5))\n",
    "    if (i + 1) % to_print == 0:\n",
    "        score = acc / float(to_print)\n",
    "        print loss, score, (i + 1) / to_print\n",
    "        loss = 0\n",
    "        acc = 0\n",
    "        if score > 0.99:\n",
    "            break\n",
    "    \n",
    "    #Backpropagation\n",
    "    #delta2_out = -z_ / z2 + (1 - z_) / (1 - z2)\n",
    "    #delta2_in = delta2_out * sigmoid_prime(z2)\n",
    "    \n",
    "    # -z_ * (1 - z2) + (1 - z_) * z2  \n",
    "    # -z_ + z_z2 + z2 - z_z2 \n",
    "    # z2 - z_\n",
    "    delta2_in = z2 - z_\n",
    "    \n",
    "    dw2 = eta * np.dot(z1.T, delta2_in) \n",
    "    db2 = eta * np.sum(delta2_in, axis = 0)\n",
    "    \n",
    "    delta1_out = np.dot(delta2_in, w2.T)\n",
    "    delta1_in = delta1_out * sigmoid_prime(s1)\n",
    "    \n",
    "    dw1 = eta * np.dot(x.T, delta1_in)\n",
    "    db1 = eta * np.sum(delta1_in, axis = 0)\n",
    "    \n",
    "    w1 -= dw1\n",
    "    b1 -= db1\n",
    "    w2 -= dw2\n",
    "    b2 -= db2"
   ]
  },
  {
   "cell_type": "code",
   "execution_count": 3,
   "metadata": {
    "collapsed": false
   },
   "outputs": [
    {
     "name": "stdout",
     "output_type": "stream",
     "text": [
      "[[ -6.6289409  -11.99595684  -3.39362292]\n",
      " [ -2.77804889 -11.91187781  -6.89972204]] [[ 6.54707894  6.42226942  7.33172589]] [[ -9.78164921]\n",
      " [ 19.76103982]\n",
      " [-10.66773685]] [[ 8.10960182]]\n"
     ]
    }
   ],
   "source": [
    "print w1, b1, w2, b2"
   ]
  }
 ],
 "metadata": {
  "kernelspec": {
   "display_name": "Python 2",
   "language": "python",
   "name": "python2"
  },
  "language_info": {
   "codemirror_mode": {
    "name": "ipython",
    "version": 2
   },
   "file_extension": ".py",
   "mimetype": "text/x-python",
   "name": "python",
   "nbconvert_exporter": "python",
   "pygments_lexer": "ipython2",
   "version": "2.7.11"
  }
 },
 "nbformat": 4,
 "nbformat_minor": 2
}
