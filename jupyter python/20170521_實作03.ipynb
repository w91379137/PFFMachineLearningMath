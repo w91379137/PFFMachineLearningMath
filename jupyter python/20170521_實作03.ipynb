{
 "cells": [
  {
   "cell_type": "code",
   "execution_count": 1,
   "metadata": {
    "collapsed": true,
    "deletable": true,
    "editable": true
   },
   "outputs": [],
   "source": [
    "import numpy as np\n",
    "\n",
    "#定義常用函數\n",
    "def sigmoid(z):\n",
    "    \"\"\"The sigmoid function.\"\"\"\n",
    "    return 1.0/(1.0+np.exp(-z))\n",
    "\n",
    "def sigmoid_prime(z):\n",
    "    \"\"\"Derivative of the sigmoid function.\"\"\"\n",
    "    return sigmoid(z)*(1-sigmoid(z))"
   ]
  },
  {
   "cell_type": "code",
   "execution_count": 2,
   "metadata": {
    "collapsed": false,
    "deletable": true,
    "editable": true
   },
   "outputs": [
    {
     "name": "stdout",
     "output_type": "stream",
     "text": [
      "[[ 36549.76188069]] 0.8757 1\n",
      "[[ 30087.5394712]] 0.87587 2\n",
      "[[ 20121.19618865]] 0.89169 3\n",
      "[[ 12951.80640914]] 0.95165 4\n",
      "[[ 9416.84549677]] 0.97704 5\n",
      "[[ 7515.18536793]] 0.98504 6\n",
      "[[ 6281.20037498]] 0.99031 7\n",
      "[[ 5481.79061424]] 0.99196 8\n",
      "[[ 5010.74902276]] 0.99301 9\n",
      "[[ 4583.23526348]] 0.9943 10\n"
     ]
    }
   ],
   "source": [
    "# 2 3 1 採用右乘\n",
    "\n",
    "w1 = 0.5 - np.random.rand(2, 5)\n",
    "b1 = np.zeros((1, 5))\n",
    "\n",
    "w2 = 0.5 - np.random.rand(5, 1)\n",
    "b2 = np.zeros((1, 1))\n",
    "\n",
    "loss = 0\n",
    "acc = 0\n",
    "total_test = 1000000\n",
    "to_print = total_test / 10\n",
    "eta = 0.001\n",
    "\n",
    "for i in range(total_test):\n",
    "    \n",
    "    #Data\n",
    "    x = np.random.rand(1, 2)\n",
    "    z_ = float( np.sum(x) < 0.5 )\n",
    "    \n",
    "    #Feedforward\n",
    "    s1 = np.dot(x, w1) + b1\n",
    "    z1 = sigmoid(s1)\n",
    "    \n",
    "    s2 = np.dot(z1, w2) + b2\n",
    "    z2 = sigmoid(s2)\n",
    "    \n",
    "    #Loss\n",
    "    loss += -z_ * np.log(z2) - (1 - z_) * np.log(1 - z2) #Cross entropy\n",
    "    acc += float(z_ == float(z2 > 0.5))\n",
    "    if (i + 1) % to_print == 0:\n",
    "        print loss, acc / float(to_print), (i + 1) / to_print\n",
    "        loss = 0\n",
    "        acc = 0\n",
    "    \n",
    "    #Backpropagation\n",
    "    #delta2_out = -z_ / z2 + (1 - z_) / (1 - z2)\n",
    "    #delta2_in = delta2_out * sigmoid_prime(z2)\n",
    "    \n",
    "    # -z_ * (1 - z2) + (1 - z_) * z2  \n",
    "    # -z_ + z_z2 + z2 - z_z2 \n",
    "    # z2 - z_\n",
    "    delta2_in = z2 - z_\n",
    "    \n",
    "    dw2 = eta * np.dot(z1.T, delta2_in) \n",
    "    db2 = eta * np.sum(delta2_in, axis = 0)\n",
    "    \n",
    "    delta1_out = np.dot(delta2_in, w2.T)\n",
    "    delta1_in = delta1_out * sigmoid_prime(s1)\n",
    "    \n",
    "    dw1 = eta * np.dot(x.T, delta1_in)\n",
    "    db1 = eta * np.sum(delta1_in, axis = 0)\n",
    "    \n",
    "    w1 -= dw1\n",
    "    b1 -= db1\n",
    "    w2 -= dw2\n",
    "    b2 -= db2"
   ]
  }
 ],
 "metadata": {
  "kernelspec": {
   "display_name": "Python 2",
   "language": "python",
   "name": "python2"
  },
  "language_info": {
   "codemirror_mode": {
    "name": "ipython",
    "version": 2
   },
   "file_extension": ".py",
   "mimetype": "text/x-python",
   "name": "python",
   "nbconvert_exporter": "python",
   "pygments_lexer": "ipython2",
   "version": "2.7.11"
  }
 },
 "nbformat": 4,
 "nbformat_minor": 2
}
