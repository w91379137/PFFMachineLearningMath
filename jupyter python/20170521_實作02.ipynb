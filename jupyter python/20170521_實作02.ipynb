{
 "cells": [
  {
   "cell_type": "code",
   "execution_count": 1,
   "metadata": {
    "collapsed": true,
    "deletable": true,
    "editable": true
   },
   "outputs": [],
   "source": [
    "import numpy as np"
   ]
  },
  {
   "cell_type": "code",
   "execution_count": 2,
   "metadata": {
    "collapsed": false,
    "deletable": true,
    "editable": true
   },
   "outputs": [
    {
     "name": "stdout",
     "output_type": "stream",
     "text": [
      "44824.6564884 0.77898 1\n",
      "34615.239735 0.74077 2\n",
      "30600.9324139 0.77408 3\n",
      "28905.2488944 0.82282 4\n",
      "26660.5170093 0.88731 5\n",
      "23665.3348215 0.94293 6\n",
      "19057.6598707 0.97796 7\n",
      "14632.6844474 0.98669 8\n",
      "11518.3386154 0.99042 9\n",
      "9436.92255844 0.99232 10\n"
     ]
    }
   ],
   "source": [
    "# 2 3 1\n",
    "w11 = 0.5 - np.random.randn()\n",
    "w12 = 0.5 - np.random.randn()\n",
    "b1 = 0.5 - np.random.randn()\n",
    "\n",
    "w21 = 0.5 - np.random.randn()\n",
    "w22 = 0.5 - np.random.randn()\n",
    "b2 = 0.5 - np.random.randn()\n",
    "\n",
    "w31 = 0.5 - np.random.randn()\n",
    "w32 = 0.5 - np.random.randn()\n",
    "b3 = 0.5 - np.random.randn()\n",
    "\n",
    "w41 = 0.5 - np.random.randn()\n",
    "w42 = 0.5 - np.random.randn()\n",
    "w43 = 0.5 - np.random.randn()\n",
    "b4 = 0.5 - np.random.randn()\n",
    "\n",
    "loss = 0\n",
    "acc = 0\n",
    "total_test = 1000000\n",
    "to_print = total_test / 10\n",
    "eta = 0.001\n",
    "\n",
    "for i in range(total_test):\n",
    "    \n",
    "    #Data\n",
    "    x1 = np.random.randn()\n",
    "    x2 = np.random.randn()\n",
    "    z_ = float( (x1 + x2) < 0.5 or (x1 + x2) > 1.5 )\n",
    "    \n",
    "    #Feedforward\n",
    "    y1 = w11 * x1 + w12 * x2 + b1\n",
    "    z1 = 1 / (1 + np.exp(-y1))\n",
    "    \n",
    "    y2 = w21 * x1 + w22 * x2 + b2\n",
    "    z2 = 1 / (1 + np.exp(-y2))\n",
    "    \n",
    "    y3 = w31 * x1 + w32 * x2 + b3\n",
    "    z3 = 1 / (1 + np.exp(-y3))\n",
    "    \n",
    "    y4 = w41 * z1 + w42 * z2 + w43 * z3 +  b4\n",
    "    z = 1 / (1 + np.exp(-y4))\n",
    "    \n",
    "    #Loss\n",
    "    loss += -z_ * np.log(z) - (1 - z_) * np.log(1 - z) #Cross entropy\n",
    "    acc += float(z_ == float(z > 0.5))\n",
    "    if (i + 1) % to_print == 0:\n",
    "        print loss, acc / float(to_print), (i + 1) / to_print\n",
    "        loss = 0\n",
    "        acc = 0\n",
    "    \n",
    "    #Backpropagation\n",
    "    dw41 = eta * (z - z_) * z1\n",
    "    dw42 = eta * (z - z_) * z2\n",
    "    dw43 = eta * (z - z_) * z3\n",
    "    db4  = eta * (z - z_)\n",
    "    \n",
    "    dw11 = eta * (z - z_) * w41 * z1 * (1 - z1) * x1\n",
    "    dw12 = eta * (z - z_) * w41 * z1 * (1 - z1) * x2\n",
    "    db1  = eta * (z - z_) * w41 * z1 * (1 - z1)\n",
    "    \n",
    "    dw21 = eta * (z - z_) * w42 * z2 * (1 - z2) * x1\n",
    "    dw22 = eta * (z - z_) * w42 * z2 * (1 - z2) * x2\n",
    "    db2  = eta * (z - z_) * w42 * z2 * (1 - z2)\n",
    "    \n",
    "    dw31 = eta * (z - z_) * w43 * z3 * (1 - z3) * x1\n",
    "    dw32 = eta * (z - z_) * w43 * z3 * (1 - z3) * x2\n",
    "    db3  = eta * (z - z_) * w43 * z3 * (1 - z3)\n",
    "    \n",
    "    w41 -= dw41\n",
    "    w42 -= dw42\n",
    "    w43 -= dw43\n",
    "    b4  -= db4\n",
    "    \n",
    "    w11 -= dw11\n",
    "    w12 -= dw12\n",
    "    b1  -= db1\n",
    "    \n",
    "    w21 -= dw21\n",
    "    w22 -= dw22\n",
    "    b2  -= db2\n",
    "    \n",
    "    w31 -= dw31\n",
    "    w32 -= dw32\n",
    "    b3  -= db3"
   ]
  }
 ],
 "metadata": {
  "kernelspec": {
   "display_name": "Python 2",
   "language": "python",
   "name": "python2"
  },
  "language_info": {
   "codemirror_mode": {
    "name": "ipython",
    "version": 2
   },
   "file_extension": ".py",
   "mimetype": "text/x-python",
   "name": "python",
   "nbconvert_exporter": "python",
   "pygments_lexer": "ipython2",
   "version": "2.7.11"
  }
 },
 "nbformat": 4,
 "nbformat_minor": 2
}
