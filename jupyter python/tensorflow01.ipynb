{
 "cells": [
  {
   "cell_type": "markdown",
   "metadata": {
    "deletable": true,
    "editable": true
   },
   "source": [
    "測試 tensorflow<br>\n",
    "<br>\n",
    "Code 來源<br>\n",
    "http://mropengate.blogspot.tw/2016/10/ai-ch165-tensorflow.html<br>"
   ]
  },
  {
   "cell_type": "code",
   "execution_count": null,
   "metadata": {
    "collapsed": false,
    "deletable": true,
    "editable": true
   },
   "outputs": [],
   "source": [
    "import tensorflow as tf\n",
    "\n",
    "matrix1 = tf.constant([[3., 3.]])\n",
    "matrix2 = tf.constant([[2.], [2.]])\n",
    "matrix3 = tf.ones((2,2))\n",
    "matrix4 = tf.random_normal((2,2))\n",
    "\n",
    "matrix_buf = tf.Variable(tf.zeros((2,2)))\n",
    "\n",
    "product = tf.matmul(matrix1, matrix2)\n",
    "add = tf.assign_add(matrix_buf, matrix3)\n",
    "assign = tf.assign(matrix_buf, matrix4)\n",
    "\n",
    "init = tf.initialize_all_variables()"
   ]
  },
  {
   "cell_type": "code",
   "execution_count": null,
   "metadata": {
    "collapsed": false,
    "deletable": true,
    "editable": true
   },
   "outputs": [],
   "source": [
    "with tf.Session() as sess:\n",
    "    sess.run(init)\n",
    "    print(product.eval(),\"\\n\") #.eval() 是 sess.run() 的語法糖\n",
    "\n",
    "    for _ in range(3):\n",
    "        sess.run(add)\n",
    "        print(matrix_buf.eval())\n",
    "\n",
    "    sess.run(assign)\n",
    "    print(\"\\n\",matrix_buf.eval(),\"\\n\")"
   ]
  }
 ],
 "metadata": {
  "kernelspec": {
   "display_name": "Python 2",
   "language": "python",
   "name": "python2"
  },
  "language_info": {
   "codemirror_mode": {
    "name": "ipython",
    "version": 2
   },
   "file_extension": ".py",
   "mimetype": "text/x-python",
   "name": "python",
   "nbconvert_exporter": "python",
   "pygments_lexer": "ipython2",
   "version": "2.7.13"
  }
 },
 "nbformat": 4,
 "nbformat_minor": 2
}
