{
 "cells": [
  {
   "cell_type": "code",
   "execution_count": 1,
   "metadata": {
    "collapsed": true,
    "deletable": true,
    "editable": true
   },
   "outputs": [],
   "source": [
    "import numpy as np"
   ]
  },
  {
   "cell_type": "code",
   "execution_count": 2,
   "metadata": {
    "collapsed": false,
    "deletable": true,
    "editable": true
   },
   "outputs": [
    {
     "name": "stdout",
     "output_type": "stream",
     "text": [
      "6458.61917974 0.5921 1\n",
      "5761.19083348 0.7979 2\n",
      "5252.1690053 0.8597 3\n",
      "4860.62037133 0.8987 4\n",
      "4494.05226431 0.9257 5\n",
      "4220.05826832 0.9379 6\n",
      "3970.42889521 0.9443 7\n",
      "3806.89308682 0.9502 8\n",
      "3625.94875403 0.9665 9\n",
      "3464.94520593 0.9693 10\n"
     ]
    }
   ],
   "source": [
    "w1 = 0\n",
    "w2 = 0\n",
    "b = 0\n",
    "\n",
    "loss = 0\n",
    "acc = 0\n",
    "total_test = 100000\n",
    "to_print = total_test / 10\n",
    "eta = 0.001\n",
    "\n",
    "for i in range(total_test):\n",
    "    \n",
    "    #Data\n",
    "    x1 = np.random.rand()\n",
    "    x2 = np.random.rand()\n",
    "    z_ = float( x1 + x2 > 1 )\n",
    "    \n",
    "    #Feedforward\n",
    "    y = w1 * x1 + w2 * x2 + b\n",
    "    z = 1 / (1 + np.exp(-y))\n",
    "    \n",
    "    #Loss\n",
    "    loss += -z_ * np.log(z) - (1 - z_) * np.log(1 - z) #Cross entropy\n",
    "    acc += float(z_ == float(z > 0.5))\n",
    "    if (i + 1) % to_print == 0:\n",
    "        print loss, acc / float(to_print), (i + 1) / to_print\n",
    "        loss = 0\n",
    "        acc = 0\n",
    "    \n",
    "    #Backpropagation\n",
    "    w1 -= eta * (z - z_) * x1\n",
    "    w2 -= eta * (z - z_) * x2\n",
    "    b -= eta * (z - z_)"
   ]
  }
 ],
 "metadata": {
  "kernelspec": {
   "display_name": "Python 2",
   "language": "python",
   "name": "python2"
  },
  "language_info": {
   "codemirror_mode": {
    "name": "ipython",
    "version": 2
   },
   "file_extension": ".py",
   "mimetype": "text/x-python",
   "name": "python",
   "nbconvert_exporter": "python",
   "pygments_lexer": "ipython2",
   "version": "2.7.13"
  }
 },
 "nbformat": 4,
 "nbformat_minor": 2
}
